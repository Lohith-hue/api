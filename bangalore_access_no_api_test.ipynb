{
 "cells": [
  {
   "cell_type": "code",
   "execution_count": 31,
   "id": "70f411fa",
   "metadata": {},
   "outputs": [],
   "source": [
    "import geopandas as gpd\n",
    "import random\n",
    "import requests"
   ]
  },
  {
   "cell_type": "code",
   "execution_count": 2,
   "id": "80cce408",
   "metadata": {},
   "outputs": [],
   "source": [
    "bangalore_b = gpd.read_file(\"/home/lohitd@nextbillion.ai/Downloads/bangalore_b_nominatim.geojson\")\n",
    "bangalore_tomtom2 = gpd.read_file(\"/home/lohitd@nextbillion.ai/Downloads/bangalore-tomtom2.geojson\")"
   ]
  },
  {
   "cell_type": "code",
   "execution_count": 3,
   "id": "d4854961",
   "metadata": {},
   "outputs": [
    {
     "data": {
      "text/plain": [
       "Index(['junction_id', 'highway', 'maxspeed', 'name', 'name:en', 'oneway',\n",
       "       'tomtom_id', 'FOW', 'FRC', 'routing_class', 'access', 'hgv', 'junction',\n",
       "       'hgv:maxwidth', 'hgv:maxheight', 'accurate_location', 'toll_gate',\n",
       "       'hgv:maxweight', 'toll', 'geometry'],\n",
       "      dtype='object')"
      ]
     },
     "execution_count": 3,
     "metadata": {},
     "output_type": "execute_result"
    }
   ],
   "source": [
    "bangalore_tomtom2.columns"
   ]
  },
  {
   "cell_type": "code",
   "execution_count": 4,
   "id": "3c2b73f1",
   "metadata": {},
   "outputs": [
    {
     "data": {
      "text/html": [
       "<div>\n",
       "<style scoped>\n",
       "    .dataframe tbody tr th:only-of-type {\n",
       "        vertical-align: middle;\n",
       "    }\n",
       "\n",
       "    .dataframe tbody tr th {\n",
       "        vertical-align: top;\n",
       "    }\n",
       "\n",
       "    .dataframe thead th {\n",
       "        text-align: right;\n",
       "    }\n",
       "</style>\n",
       "<table border=\"1\" class=\"dataframe\">\n",
       "  <thead>\n",
       "    <tr style=\"text-align: right;\">\n",
       "      <th></th>\n",
       "      <th>junction_id</th>\n",
       "      <th>highway</th>\n",
       "      <th>maxspeed</th>\n",
       "      <th>name</th>\n",
       "      <th>name:en</th>\n",
       "      <th>oneway</th>\n",
       "      <th>tomtom_id</th>\n",
       "      <th>FOW</th>\n",
       "      <th>FRC</th>\n",
       "      <th>routing_class</th>\n",
       "      <th>access</th>\n",
       "      <th>hgv</th>\n",
       "      <th>junction</th>\n",
       "      <th>hgv:maxwidth</th>\n",
       "      <th>hgv:maxheight</th>\n",
       "      <th>accurate_location</th>\n",
       "      <th>toll_gate</th>\n",
       "      <th>hgv:maxweight</th>\n",
       "      <th>toll</th>\n",
       "      <th>geometry</th>\n",
       "    </tr>\n",
       "  </thead>\n",
       "  <tbody>\n",
       "    <tr>\n",
       "      <th>0</th>\n",
       "      <td>e5941290-1b35-496b-9876-89373807e84d</td>\n",
       "      <td>None</td>\n",
       "      <td>None</td>\n",
       "      <td>None</td>\n",
       "      <td>None</td>\n",
       "      <td>None</td>\n",
       "      <td>None</td>\n",
       "      <td>None</td>\n",
       "      <td>None</td>\n",
       "      <td>None</td>\n",
       "      <td>None</td>\n",
       "      <td>None</td>\n",
       "      <td>None</td>\n",
       "      <td>None</td>\n",
       "      <td>None</td>\n",
       "      <td>None</td>\n",
       "      <td>None</td>\n",
       "      <td>None</td>\n",
       "      <td>None</td>\n",
       "      <td>POINT (77.68150 13.03980)</td>\n",
       "    </tr>\n",
       "    <tr>\n",
       "      <th>1</th>\n",
       "      <td>00004e32-3000-2800-ffff-ffffce218243</td>\n",
       "      <td>None</td>\n",
       "      <td>None</td>\n",
       "      <td>None</td>\n",
       "      <td>None</td>\n",
       "      <td>None</td>\n",
       "      <td>None</td>\n",
       "      <td>None</td>\n",
       "      <td>None</td>\n",
       "      <td>None</td>\n",
       "      <td>None</td>\n",
       "      <td>None</td>\n",
       "      <td>None</td>\n",
       "      <td>None</td>\n",
       "      <td>None</td>\n",
       "      <td>None</td>\n",
       "      <td>None</td>\n",
       "      <td>None</td>\n",
       "      <td>None</td>\n",
       "      <td>POINT (77.53020 12.98778)</td>\n",
       "    </tr>\n",
       "    <tr>\n",
       "      <th>2</th>\n",
       "      <td>00004e32-3000-2800-ffff-ffffcce8bdea</td>\n",
       "      <td>None</td>\n",
       "      <td>None</td>\n",
       "      <td>None</td>\n",
       "      <td>None</td>\n",
       "      <td>None</td>\n",
       "      <td>None</td>\n",
       "      <td>None</td>\n",
       "      <td>None</td>\n",
       "      <td>None</td>\n",
       "      <td>None</td>\n",
       "      <td>None</td>\n",
       "      <td>None</td>\n",
       "      <td>None</td>\n",
       "      <td>None</td>\n",
       "      <td>None</td>\n",
       "      <td>None</td>\n",
       "      <td>None</td>\n",
       "      <td>None</td>\n",
       "      <td>POINT (77.64519 13.01042)</td>\n",
       "    </tr>\n",
       "  </tbody>\n",
       "</table>\n",
       "</div>"
      ],
      "text/plain": [
       "                            junction_id highway maxspeed  name name:en oneway  \\\n",
       "0  e5941290-1b35-496b-9876-89373807e84d    None     None  None    None   None   \n",
       "1  00004e32-3000-2800-ffff-ffffce218243    None     None  None    None   None   \n",
       "2  00004e32-3000-2800-ffff-ffffcce8bdea    None     None  None    None   None   \n",
       "\n",
       "  tomtom_id   FOW   FRC routing_class access   hgv junction hgv:maxwidth  \\\n",
       "0      None  None  None          None   None  None     None         None   \n",
       "1      None  None  None          None   None  None     None         None   \n",
       "2      None  None  None          None   None  None     None         None   \n",
       "\n",
       "  hgv:maxheight accurate_location toll_gate hgv:maxweight  toll  \\\n",
       "0          None              None      None          None  None   \n",
       "1          None              None      None          None  None   \n",
       "2          None              None      None          None  None   \n",
       "\n",
       "                    geometry  \n",
       "0  POINT (77.68150 13.03980)  \n",
       "1  POINT (77.53020 12.98778)  \n",
       "2  POINT (77.64519 13.01042)  "
      ]
     },
     "execution_count": 4,
     "metadata": {},
     "output_type": "execute_result"
    }
   ],
   "source": [
    "bangalore_tomtom2.head(3)"
   ]
  },
  {
   "cell_type": "code",
   "execution_count": 5,
   "id": "953f8a4b",
   "metadata": {},
   "outputs": [],
   "source": [
    "access_no = bangalore_tomtom2[bangalore_tomtom2['access'] == \"no\"]"
   ]
  },
  {
   "cell_type": "code",
   "execution_count": 6,
   "id": "0536fed4",
   "metadata": {},
   "outputs": [
    {
     "name": "stderr",
     "output_type": "stream",
     "text": [
      "<ipython-input-6-0d46ed49394e>:1: UserWarning: Geometry is in a geographic CRS. Results from 'centroid' are likely incorrect. Use 'GeoSeries.to_crs()' to re-project geometries to a projected CRS before this operation.\n",
      "\n",
      "  access_no['centroids'] = access_no['geometry'].centroid\n",
      "/home/lohitd@nextbillion.ai/anaconda3/lib/python3.8/site-packages/geopandas/geodataframe.py:1351: SettingWithCopyWarning: \n",
      "A value is trying to be set on a copy of a slice from a DataFrame.\n",
      "Try using .loc[row_indexer,col_indexer] = value instead\n",
      "\n",
      "See the caveats in the documentation: https://pandas.pydata.org/pandas-docs/stable/user_guide/indexing.html#returning-a-view-versus-a-copy\n",
      "  super().__setitem__(key, value)\n"
     ]
    }
   ],
   "source": [
    "access_no['centroids'] = access_no['geometry'].centroid"
   ]
  },
  {
   "cell_type": "code",
   "execution_count": 22,
   "id": "df2a8ae7",
   "metadata": {},
   "outputs": [
    {
     "data": {
      "text/html": [
       "<div>\n",
       "<style scoped>\n",
       "    .dataframe tbody tr th:only-of-type {\n",
       "        vertical-align: middle;\n",
       "    }\n",
       "\n",
       "    .dataframe tbody tr th {\n",
       "        vertical-align: top;\n",
       "    }\n",
       "\n",
       "    .dataframe thead th {\n",
       "        text-align: right;\n",
       "    }\n",
       "</style>\n",
       "<table border=\"1\" class=\"dataframe\">\n",
       "  <thead>\n",
       "    <tr style=\"text-align: right;\">\n",
       "      <th></th>\n",
       "      <th>junction_id</th>\n",
       "      <th>highway</th>\n",
       "      <th>maxspeed</th>\n",
       "      <th>name</th>\n",
       "      <th>name:en</th>\n",
       "      <th>oneway</th>\n",
       "      <th>tomtom_id</th>\n",
       "      <th>FOW</th>\n",
       "      <th>FRC</th>\n",
       "      <th>routing_class</th>\n",
       "      <th>...</th>\n",
       "      <th>toll_gate</th>\n",
       "      <th>hgv:maxweight</th>\n",
       "      <th>toll</th>\n",
       "      <th>geometry</th>\n",
       "      <th>centroids</th>\n",
       "      <th>origin</th>\n",
       "      <th>destination</th>\n",
       "      <th>centroid_lon</th>\n",
       "      <th>centroid_lat</th>\n",
       "      <th>centroid_coordinates</th>\n",
       "    </tr>\n",
       "  </thead>\n",
       "  <tbody>\n",
       "    <tr>\n",
       "      <th>4</th>\n",
       "      <td>None</td>\n",
       "      <td>footway</td>\n",
       "      <td>0</td>\n",
       "      <td>None</td>\n",
       "      <td>None</td>\n",
       "      <td>no</td>\n",
       "      <td>00004e32-3000-0400-0000-00000366b689</td>\n",
       "      <td>20</td>\n",
       "      <td>other_road</td>\n",
       "      <td>7</td>\n",
       "      <td>...</td>\n",
       "      <td>None</td>\n",
       "      <td>None</td>\n",
       "      <td>None</td>\n",
       "      <td>LINESTRING (77.65123 12.89868, 77.65087 12.898...</td>\n",
       "      <td>POINT (77.65092 12.89875)</td>\n",
       "      <td>13.09768197216262,77.5380340307321</td>\n",
       "      <td>13.058122429679441,77.66984574054248</td>\n",
       "      <td>77.650924</td>\n",
       "      <td>12.898755</td>\n",
       "      <td>12.898754630755045,77.65092352777764</td>\n",
       "    </tr>\n",
       "    <tr>\n",
       "      <th>6</th>\n",
       "      <td>None</td>\n",
       "      <td>residential</td>\n",
       "      <td>45</td>\n",
       "      <td>None</td>\n",
       "      <td>None</td>\n",
       "      <td>no</td>\n",
       "      <td>00004e32-3000-0400-0000-0000022a5e8b</td>\n",
       "      <td>3</td>\n",
       "      <td>local_road_of_minor_importance</td>\n",
       "      <td>7</td>\n",
       "      <td>...</td>\n",
       "      <td>None</td>\n",
       "      <td>None</td>\n",
       "      <td>None</td>\n",
       "      <td>LINESTRING (77.70092 12.98279, 77.70102 12.982...</td>\n",
       "      <td>POINT (77.70099 12.98288)</td>\n",
       "      <td>13.072151356590355,77.48630928801968</td>\n",
       "      <td>13.101914795679653,77.58302564455917</td>\n",
       "      <td>77.700986</td>\n",
       "      <td>12.982883</td>\n",
       "      <td>12.982883479563865,77.70098586547103</td>\n",
       "    </tr>\n",
       "    <tr>\n",
       "      <th>18</th>\n",
       "      <td>None</td>\n",
       "      <td>residential</td>\n",
       "      <td>0</td>\n",
       "      <td>None</td>\n",
       "      <td>None</td>\n",
       "      <td>no</td>\n",
       "      <td>d5d51d05-a7a0-48b4-af58-69c942826d91</td>\n",
       "      <td>3</td>\n",
       "      <td>local_road_of_minor_importance</td>\n",
       "      <td>7</td>\n",
       "      <td>...</td>\n",
       "      <td>None</td>\n",
       "      <td>None</td>\n",
       "      <td>None</td>\n",
       "      <td>LINESTRING (77.61531 13.12461, 77.61560 13.125...</td>\n",
       "      <td>POINT (77.61513 13.12566)</td>\n",
       "      <td>12.914939198091588,77.71267735425485</td>\n",
       "      <td>12.969396741254881,77.60104192034113</td>\n",
       "      <td>77.615129</td>\n",
       "      <td>13.125664</td>\n",
       "      <td>13.125663764473893,77.6151290902805</td>\n",
       "    </tr>\n",
       "  </tbody>\n",
       "</table>\n",
       "<p>3 rows × 26 columns</p>\n",
       "</div>"
      ],
      "text/plain": [
       "   junction_id      highway maxspeed  name name:en oneway  \\\n",
       "4         None      footway        0  None    None     no   \n",
       "6         None  residential       45  None    None     no   \n",
       "18        None  residential        0  None    None     no   \n",
       "\n",
       "                               tomtom_id FOW                             FRC  \\\n",
       "4   00004e32-3000-0400-0000-00000366b689  20                      other_road   \n",
       "6   00004e32-3000-0400-0000-0000022a5e8b   3  local_road_of_minor_importance   \n",
       "18  d5d51d05-a7a0-48b4-af58-69c942826d91   3  local_road_of_minor_importance   \n",
       "\n",
       "   routing_class  ... toll_gate hgv:maxweight  toll  \\\n",
       "4              7  ...      None          None  None   \n",
       "6              7  ...      None          None  None   \n",
       "18             7  ...      None          None  None   \n",
       "\n",
       "                                             geometry  \\\n",
       "4   LINESTRING (77.65123 12.89868, 77.65087 12.898...   \n",
       "6   LINESTRING (77.70092 12.98279, 77.70102 12.982...   \n",
       "18  LINESTRING (77.61531 13.12461, 77.61560 13.125...   \n",
       "\n",
       "                    centroids                                origin  \\\n",
       "4   POINT (77.65092 12.89875)    13.09768197216262,77.5380340307321   \n",
       "6   POINT (77.70099 12.98288)  13.072151356590355,77.48630928801968   \n",
       "18  POINT (77.61513 13.12566)  12.914939198091588,77.71267735425485   \n",
       "\n",
       "                             destination centroid_lon centroid_lat  \\\n",
       "4   13.058122429679441,77.66984574054248    77.650924    12.898755   \n",
       "6   13.101914795679653,77.58302564455917    77.700986    12.982883   \n",
       "18  12.969396741254881,77.60104192034113    77.615129    13.125664   \n",
       "\n",
       "                    centroid_coordinates  \n",
       "4   12.898754630755045,77.65092352777764  \n",
       "6   12.982883479563865,77.70098586547103  \n",
       "18   13.125663764473893,77.6151290902805  \n",
       "\n",
       "[3 rows x 26 columns]"
      ]
     },
     "execution_count": 22,
     "metadata": {},
     "output_type": "execute_result"
    }
   ],
   "source": [
    "access_no.head(3)"
   ]
  },
  {
   "cell_type": "code",
   "execution_count": 12,
   "id": "c0b45825",
   "metadata": {},
   "outputs": [],
   "source": [
    "#creating bounds\n",
    "boundary_bounds = bangalore_b.bounds\n",
    "minx = boundary_bounds.loc[0,'minx']\n",
    "miny = boundary_bounds.loc[0,'miny']\n",
    "maxx = boundary_bounds.loc[0,'maxx']\n",
    "maxy = boundary_bounds.loc[0,'maxy']\n",
    "\n",
    "#create random coordinates\n",
    "coordinates = []\n",
    "for each in range(61028):\n",
    "    lng = random.uniform(minx, maxx)\n",
    "    lat = random.uniform(miny, maxy)\n",
    "    coordinates.append(f\"{lat},{lng}\")\n",
    "    \n",
    "#split coordinates as origin and destination\n",
    "origin = coordinates[0:int(len(coordinates)/2)]\n",
    "destination = coordinates[int(len(coordinates)/2):int(len(coordinates)+1)]"
   ]
  },
  {
   "cell_type": "code",
   "execution_count": 14,
   "id": "ba1f9545",
   "metadata": {},
   "outputs": [
    {
     "name": "stderr",
     "output_type": "stream",
     "text": [
      "/home/lohitd@nextbillion.ai/anaconda3/lib/python3.8/site-packages/geopandas/geodataframe.py:1351: SettingWithCopyWarning: \n",
      "A value is trying to be set on a copy of a slice from a DataFrame.\n",
      "Try using .loc[row_indexer,col_indexer] = value instead\n",
      "\n",
      "See the caveats in the documentation: https://pandas.pydata.org/pandas-docs/stable/user_guide/indexing.html#returning-a-view-versus-a-copy\n",
      "  super().__setitem__(key, value)\n"
     ]
    }
   ],
   "source": [
    "access_no['origin'] = origin\n",
    "access_no['destination'] = destination"
   ]
  },
  {
   "cell_type": "code",
   "execution_count": 18,
   "id": "ad559b91",
   "metadata": {},
   "outputs": [
    {
     "name": "stderr",
     "output_type": "stream",
     "text": [
      "/home/lohitd@nextbillion.ai/anaconda3/lib/python3.8/site-packages/geopandas/geodataframe.py:1351: SettingWithCopyWarning: \n",
      "A value is trying to be set on a copy of a slice from a DataFrame.\n",
      "Try using .loc[row_indexer,col_indexer] = value instead\n",
      "\n",
      "See the caveats in the documentation: https://pandas.pydata.org/pandas-docs/stable/user_guide/indexing.html#returning-a-view-versus-a-copy\n",
      "  super().__setitem__(key, value)\n"
     ]
    }
   ],
   "source": [
    "access_no['centroid_lon'] = access_no.centroids.x\n",
    "access_no['centroid_lat'] = access_no.centroids.y"
   ]
  },
  {
   "cell_type": "code",
   "execution_count": 20,
   "id": "c72b8ebb",
   "metadata": {},
   "outputs": [],
   "source": [
    "access_no['centroid_coordinates'] = access_no['centroid_lat'].astype(str) + \",\" + access_no['centroid_lon'].astype(str)"
   ]
  },
  {
   "cell_type": "code",
   "execution_count": 28,
   "id": "afe436cc",
   "metadata": {},
   "outputs": [],
   "source": [
    "access_no.to_csv('/home/lohitd@nextbillion.ai/banglore_access_no_line_centroids.csv', index=False)"
   ]
  },
  {
   "cell_type": "code",
   "execution_count": null,
   "id": "43be7059",
   "metadata": {},
   "outputs": [],
   "source": [
    "'https://compass.nextbillion.io/directions?origin=12.9727462,77.7129297&dest=12.95172596,77.64041625&waypoints=12.9718376,77.7026649&waypoints=12.9727677,77.6991394&waypoints=12.94827060,77.64615213&approaches=unrestricted&approaches=unrestricted&approaches=unrestricted&approaches=unrestricted&approaches=unrestricted&travelMode=4&departureTime=1654065622343&alternative=false&serviceProviders=Plain%20NB&session=IN7Fz1&alternativeNum=1&annotation=false'"
   ]
  },
  {
   "cell_type": "code",
   "execution_count": 29,
   "id": "2bbb98bb",
   "metadata": {},
   "outputs": [
    {
     "name": "stderr",
     "output_type": "stream",
     "text": [
      "/home/lohitd@nextbillion.ai/anaconda3/lib/python3.8/site-packages/geopandas/geodataframe.py:1351: SettingWithCopyWarning: \n",
      "A value is trying to be set on a copy of a slice from a DataFrame.\n",
      "Try using .loc[row_indexer,col_indexer] = value instead\n",
      "\n",
      "See the caveats in the documentation: https://pandas.pydata.org/pandas-docs/stable/user_guide/indexing.html#returning-a-view-versus-a-copy\n",
      "  super().__setitem__(key, value)\n"
     ]
    }
   ],
   "source": [
    "nb_request_links = []\n",
    "\n",
    "for index, row in access_no.iterrows():\n",
    "    nb_request_links.append(f\"https://api.nextbillion.io/directions/json?origin={row['origin']}&destination={row['destination']}&session=c0sinx&alternatives=false&altcount=1&annotations=false&approaches=unrestricted;unrestricted&avoid=&mode=4w&waypoints={row['centroid_coordinates']}&departure_time=1654598935&key=plaintesting\")\n",
    "    \n",
    "access_no['nb_request_links'] = nb_request_links"
   ]
  },
  {
   "cell_type": "code",
   "execution_count": null,
   "id": "9f509c82",
   "metadata": {},
   "outputs": [],
   "source": [
    "nb_responses = []\n",
    "\n",
    "for link in nb_request_links:\n",
    "    nb_response = requests.get(link)\n",
    "    nb_responses.append(nb_response.text)"
   ]
  },
  {
   "cell_type": "code",
   "execution_count": null,
   "id": "708cf7a9",
   "metadata": {},
   "outputs": [],
   "source": [
    "access_no['nb_responses'] = pd.Series(nb_responses)"
   ]
  },
  {
   "cell_type": "code",
   "execution_count": null,
   "id": "ee337969",
   "metadata": {},
   "outputs": [],
   "source": [
    "asahi_marker_links = []\n",
    "\n",
    "for index, row in asahi.iterrows():\n",
    "    asahi_marker_links.append(f\"L.marker([{row['lat']}, {row['lon']}], {{icon: asahiIcon}}).addTo(map).bindPopup('Brand:{row['brand']}<br>Vending:{row['vending']}<br>Nearby:{row['nearby']}<br>Landmark:{row['landmark']}<br><a href = {row['google_sv']} >Google Street View</a>');\")\n",
    "    \n",
    "asahi['markerlink'] = asahi_marker_links"
   ]
  }
 ],
 "metadata": {
  "kernelspec": {
   "display_name": "Python 3",
   "language": "python",
   "name": "python3"
  },
  "language_info": {
   "codemirror_mode": {
    "name": "ipython",
    "version": 3
   },
   "file_extension": ".py",
   "mimetype": "text/x-python",
   "name": "python",
   "nbconvert_exporter": "python",
   "pygments_lexer": "ipython3",
   "version": "3.8.8"
  }
 },
 "nbformat": 4,
 "nbformat_minor": 5
}
