{
 "cells": [
  {
   "cell_type": "markdown",
   "id": "83674883",
   "metadata": {},
   "source": [
    "# API Response capture"
   ]
  },
  {
   "cell_type": "code",
   "execution_count": 1,
   "id": "21ee0eb6",
   "metadata": {},
   "outputs": [
    {
     "name": "stderr",
     "output_type": "stream",
     "text": [
      "/home/lohitd@nextbillion.ai/anaconda3/lib/python3.8/site-packages/geopandas/_compat.py:106: UserWarning: The Shapely GEOS version (3.8.0-CAPI-1.13.1 ) is incompatible with the GEOS version PyGEOS was compiled with (3.9.1-CAPI-1.14.2). Conversions between both will be slow.\n",
      "  warnings.warn(\n"
     ]
    }
   ],
   "source": [
    "import requests\n",
    "import json\n",
    "import pandas as pd\n",
    "import geopandas as gpd\n",
    "import numpy as np\n",
    "import random\n",
    "from shapely.geometry import Polygon, Point\n",
    "#import matplotlib.pyplot as plt\n",
    "#import contextily as cx"
   ]
  },
  {
   "cell_type": "markdown",
   "id": "3062c813",
   "metadata": {},
   "source": [
    "# Input_values"
   ]
  },
  {
   "cell_type": "code",
   "execution_count": 2,
   "id": "2864a8c3",
   "metadata": {},
   "outputs": [],
   "source": [
    "input_boundary_filename = 'Singapore.geojson'\n",
    "coordinates_range = 100\n",
    "nb_key = 'plaintesting'\n",
    "tomtom_key = 'T4NeSzdsHG07NmEA7AvH2Jv2IL1s3qUp'\n",
    "mapbox_accesstoken = 'pk.eyJ1Ijoia2FpLWxpdSIsImEiOiJjazduNmtxcTkwcHlyM2RxNjVqdzBqcmdjIn0.ElP1f3BdnelgeXuRR4Q3BA'"
   ]
  },
  {
   "cell_type": "markdown",
   "id": "f95c78a1",
   "metadata": {},
   "source": [
    "# Execution"
   ]
  },
  {
   "cell_type": "code",
   "execution_count": 3,
   "id": "7b624502",
   "metadata": {},
   "outputs": [],
   "source": [
    "boundary = gpd.read_file(input_boundary_filename)"
   ]
  },
  {
   "cell_type": "code",
   "execution_count": 4,
   "id": "e61c3f2d",
   "metadata": {},
   "outputs": [],
   "source": [
    "boundary_bounds = boundary.bounds\n",
    "minx = boundary_bounds.loc[0,'minx']\n",
    "miny = boundary_bounds.loc[0,'miny']\n",
    "maxx = boundary_bounds.loc[0,'maxx']\n",
    "maxy = boundary_bounds.loc[0,'maxy']"
   ]
  },
  {
   "cell_type": "code",
   "execution_count": 5,
   "id": "d4b2dfa2",
   "metadata": {},
   "outputs": [],
   "source": [
    "coordinates = []\n",
    "\n",
    "for each in range(coordinates_range):\n",
    "    lng = random.uniform(minx, maxx)\n",
    "    lat = random.uniform(miny, maxy)\n",
    "    coordinates.append(f\"{lat},{lng}\")"
   ]
  },
  {
   "cell_type": "code",
   "execution_count": 6,
   "id": "65341b5d",
   "metadata": {},
   "outputs": [],
   "source": [
    "origin = coordinates[0:int(len(coordinates)/2)]\n",
    "destination = coordinates[int(len(coordinates)/2):int(len(coordinates)+1)]"
   ]
  },
  {
   "cell_type": "code",
   "execution_count": 7,
   "id": "8238003a",
   "metadata": {},
   "outputs": [],
   "source": [
    "api_input = pd.DataFrame(origin, columns=['origin'])\n",
    "api_input['destination'] = destination"
   ]
  },
  {
   "cell_type": "code",
   "execution_count": null,
   "id": "ba6dfe9e",
   "metadata": {},
   "outputs": [],
   "source": [
    "len(api_input)"
   ]
  },
  {
   "cell_type": "markdown",
   "id": "d26ca6d2",
   "metadata": {},
   "source": [
    "# lat/lng split"
   ]
  },
  {
   "cell_type": "code",
   "execution_count": 8,
   "id": "335cfca0",
   "metadata": {},
   "outputs": [],
   "source": [
    "# Create two lists for the loop results to be placed\n",
    "origin_lat = []\n",
    "origin_lon = []\n",
    "destination_lat = []\n",
    "destination_lon = []\n",
    "\n",
    "# For each row in a varible,\n",
    "for index, row in api_input.iterrows():\n",
    "    origin_lat.append(row['origin'].split(',')[0])\n",
    "    origin_lon.append(row['origin'].split(',')[1])\n",
    "    destination_lat.append(row['destination'].split(',')[0])\n",
    "    destination_lon.append(row['destination'].split(',')[1])\n",
    "        \n",
    "api_input['origin_lat'] = origin_lat\n",
    "api_input['origin_lon'] = origin_lon\n",
    "api_input['destination_lat'] = destination_lat\n",
    "api_input['destination_lon'] = destination_lon"
   ]
  },
  {
   "cell_type": "markdown",
   "id": "57ccef35",
   "metadata": {},
   "source": [
    "# nb_request_links"
   ]
  },
  {
   "cell_type": "code",
   "execution_count": 9,
   "id": "c72de2a8",
   "metadata": {},
   "outputs": [],
   "source": [
    "nb_request = []\n",
    "\n",
    "for index, row in api_input.iterrows():\n",
    "    nb_request.append(f\"https://api.nextbillion.io/directions/json?origin={row['origin_lat']},{row['origin_lon']}&destination={row['destination_lat']},{row['destination_lon']}&key={nb_key}\")\n",
    "    \n",
    "api_input['nb_request_links'] = nb_request"
   ]
  },
  {
   "cell_type": "markdown",
   "id": "22bc409e",
   "metadata": {},
   "source": [
    "# nb_responses"
   ]
  },
  {
   "cell_type": "code",
   "execution_count": 10,
   "id": "0a04aa09",
   "metadata": {},
   "outputs": [],
   "source": [
    "nb_request_links = api_input['nb_request_links']\n",
    "nb_response_text = []\n",
    "\n",
    "for link in nb_request_links:\n",
    "    nb_response = requests.get(link)\n",
    "    nb_response_text.append(nb_response.text)\n",
    "    \n",
    "api_input['nb_response'] = pd.Series(nb_response_text)"
   ]
  },
  {
   "cell_type": "markdown",
   "id": "aa27db36",
   "metadata": {},
   "source": [
    "# tomtom_request_links"
   ]
  },
  {
   "cell_type": "code",
   "execution_count": 11,
   "id": "d11c1a28",
   "metadata": {},
   "outputs": [],
   "source": [
    "tomtom_request = []\n",
    "\n",
    "for index, row in api_input.iterrows():\n",
    "    tomtom_request.append(f\"https://api.tomtom.com/routing/1/calculateRoute/{row['origin_lat']},{row['origin_lon']}:{row['destination_lat']},{row['destination_lon']}/json?key={tomtom_key}&travelMode=car\")\n",
    "    \n",
    "api_input['tomtom_request_links'] = tomtom_request"
   ]
  },
  {
   "cell_type": "markdown",
   "id": "af4e60e2",
   "metadata": {},
   "source": [
    "# tomtom_responses"
   ]
  },
  {
   "cell_type": "code",
   "execution_count": 12,
   "id": "59e68d1a",
   "metadata": {},
   "outputs": [],
   "source": [
    "tomtom_request_links = api_input['tomtom_request_links']\n",
    "tomtom_response_text = []\n",
    "\n",
    "for link in tomtom_request_links:\n",
    "    tomtom_response = requests.get(link)\n",
    "    tomtom_response_text.append(tomtom_response.text)\n",
    "    \n",
    "api_input['tomtom_response'] = pd.Series(tomtom_response_text)"
   ]
  },
  {
   "cell_type": "markdown",
   "id": "9f53382c",
   "metadata": {},
   "source": [
    "# mapbox_request_links"
   ]
  },
  {
   "cell_type": "code",
   "execution_count": 13,
   "id": "7f0d690e",
   "metadata": {},
   "outputs": [],
   "source": [
    "mapbox_request = []\n",
    "\n",
    "for index, row in api_input.iterrows():\n",
    "    mapbox_request.append(f\"https://api.mapbox.com/directions/v5/mapbox/driving/{row['origin_lon']},{row['origin_lat']};{row['destination_lon']},{row['destination_lat']}?access_token={mapbox_accesstoken}&geometries=geojson&alternatives=false\")\n",
    "    \n",
    "api_input['mapbox_request_links'] = mapbox_request"
   ]
  },
  {
   "cell_type": "markdown",
   "id": "93c00372",
   "metadata": {},
   "source": [
    "# mapbox_responses_links"
   ]
  },
  {
   "cell_type": "code",
   "execution_count": 14,
   "id": "5e874283",
   "metadata": {},
   "outputs": [],
   "source": [
    "mapbox_request_links = api_input['mapbox_request_links']\n",
    "\n",
    "mapbox_response_text = []\n",
    "\n",
    "for link in mapbox_request_links:\n",
    "    mapbox_response = requests.get(link)\n",
    "    mapbox_response_text.append(mapbox_response.text)\n",
    "    \n",
    "api_input['mapbox_response'] = pd.Series(mapbox_response_text)"
   ]
  },
  {
   "cell_type": "markdown",
   "id": "298df662",
   "metadata": {},
   "source": [
    "# google_request_links"
   ]
  },
  {
   "cell_type": "code",
   "execution_count": null,
   "id": "e3a9ec4c",
   "metadata": {},
   "outputs": [],
   "source": [
    "#nb_request = []\n",
    "\n",
    "#for index, row in df.iterrows():\n",
    "    #nb_request.append(f\"https://api.nextbillion.io/directions/json?origin={row['origin_lat']},{row['origin_lon']}&destination={row['destination_lat']},{row['destination_lon']}&key=45bea3792b6e46c1a705f3a8bc3eb33a\")\n",
    "    \n",
    "#api_input['nb_request_links'] = nb_request"
   ]
  },
  {
   "cell_type": "markdown",
   "id": "5225a610",
   "metadata": {},
   "source": [
    "# google_responses_links"
   ]
  },
  {
   "cell_type": "code",
   "execution_count": null,
   "id": "57ab2717",
   "metadata": {},
   "outputs": [],
   "source": [
    "#nb_request_links = api_input['nb_request_links']\n",
    "\n",
    "#nb_response_dict_list = []\n",
    "\n",
    "#for link in nb_request_links:\n",
    "    #nb_response = requests.get(link)\n",
    "    #nb_response_dict_list.append(dict(json.loads(nb_response.text)))\n",
    "    # PC_Miler_requests"
   ]
  },
  {
   "cell_type": "markdown",
   "id": "cca58b45",
   "metadata": {},
   "source": [
    "# PC_Miler_requests"
   ]
  },
  {
   "cell_type": "code",
   "execution_count": 28,
   "id": "de2ec74a",
   "metadata": {},
   "outputs": [],
   "source": [
    "pcmiler_requests = []\n",
    "\n",
    "for index, row in api_input.iterrows():\n",
    "    pcmiler_requests.append(f\"https://pcmiler.alk.com/APIs/REST/v1.0/service.svc/route/routePath?stops={row['origin_lon']}%2C{row['origin_lat']}%3B{row['destination_lon']}%2C{row['destination_lat']}&vehType=0&routeType=0&hwyOnly=false&overrideClass=0&distUnits=0&avoidTolls=false&openBorders=true&overrideRestrict=false&hazMat=0&hubRouting=false&vehDimUnits=0&vehHeight=13%276%22&vehLength=48%270%22&vehWidth=96%22&vehWeight=80000&axles=5&LCV=false&region=4&dataset=PCM_NA&useTraffic=false&ferryDiscourage=false&afSetIDs=&sideOfStreetAdherence=0&useSites=false\")\n",
    "    \n",
    "api_input['pcmiler_requests'] = pcmiler_requests"
   ]
  },
  {
   "cell_type": "markdown",
   "id": "6869ef7f",
   "metadata": {},
   "source": [
    "# PC_Miler_responses"
   ]
  },
  {
   "cell_type": "code",
   "execution_count": null,
   "id": "1e27876e",
   "metadata": {},
   "outputs": [],
   "source": [
    "nb_request_links = api_input['nb_request_links']\n",
    "\n",
    "nb_response_dict_list = []\n",
    "\n",
    "for link in nb_request_links:\n",
    "    nb_response = requests.get(link)\n",
    "    nb_response_dict_list.append(dict(json.loads(nb_response.text)))\n",
    "    time.sleep(3)\n",
    "    \n",
    "api_input['nb_response_dict'] = pd.Series(nb_response_dict_list)"
   ]
  },
  {
   "cell_type": "markdown",
   "id": "f4dba133",
   "metadata": {},
   "source": [
    "# Drop api responses with errors"
   ]
  },
  {
   "cell_type": "code",
   "execution_count": 15,
   "id": "91bc07ba",
   "metadata": {},
   "outputs": [],
   "source": [
    "api_input = api_input[api_input['nb_response'] != '{\"msg\":\"auth error\",\"status\":\"401\"}']"
   ]
  },
  {
   "cell_type": "code",
   "execution_count": 16,
   "id": "84297cde",
   "metadata": {},
   "outputs": [],
   "source": [
    "api_input = api_input[api_input['tomtom_response'] !='{\"formatVersion\":\"0.0.12\",\"error\":{\"description\":\"Engine error while executing route request: NO_ROUTE_FOUND\"},\"detailedError\":{\"message\":\"Engine error while executing route request: NO_ROUTE_FOUND\",\"code\":\"NO_ROUTE_FOUND\"}}']"
   ]
  },
  {
   "cell_type": "code",
   "execution_count": 17,
   "id": "a8e4cacc",
   "metadata": {},
   "outputs": [],
   "source": [
    "api_input = api_input[api_input['mapbox_response'] !='{\"code\":\"NoRoute\",\"message\":\"No route found\",\"routes\":[]}']"
   ]
  },
  {
   "cell_type": "markdown",
   "id": "99011c45",
   "metadata": {},
   "source": [
    "# Distance&Duration"
   ]
  },
  {
   "cell_type": "markdown",
   "id": "342bf313",
   "metadata": {},
   "source": [
    "# nb_distance&duration"
   ]
  },
  {
   "cell_type": "code",
   "execution_count": 18,
   "id": "37dd6015",
   "metadata": {},
   "outputs": [],
   "source": [
    "nb_distance = []\n",
    "nb_duration = []\n",
    "\n",
    "for index, row in api_input.iterrows():\n",
    "    nb_response = json.loads(row['nb_response'])\n",
    "    nb_distance.append(nb_response['routes'][0]['distance'])\n",
    "    nb_duration.append(nb_response['routes'][0]['duration'])\n",
    "    \n",
    "api_input['nb_distance'] = pd.Series(nb_distance)\n",
    "api_input['nb_duration'] = pd.Series(nb_duration)"
   ]
  },
  {
   "cell_type": "markdown",
   "id": "4b83267f",
   "metadata": {},
   "source": [
    "# tomtom_distance&duration"
   ]
  },
  {
   "cell_type": "code",
   "execution_count": 19,
   "id": "25221efc",
   "metadata": {},
   "outputs": [],
   "source": [
    "tomtom_distance = []\n",
    "tomtom_duration = []\n",
    "\n",
    "for index, row in api_input.iterrows():\n",
    "    tomtom_response = json.loads(row['tomtom_response'])\n",
    "    tomtom_distance.append(tomtom_response['routes'][0]['summary']['lengthInMeters'])\n",
    "    tomtom_duration.append(tomtom_response['routes'][0]['summary']['travelTimeInSeconds'])\n",
    "    \n",
    "api_input['tomtom_distance'] = pd.Series(tomtom_distance)\n",
    "api_input['tomtom_duration'] = pd.Series(tomtom_duration)"
   ]
  },
  {
   "cell_type": "markdown",
   "id": "3a0fa8e6",
   "metadata": {},
   "source": [
    "# mapbox_distance&duration"
   ]
  },
  {
   "cell_type": "code",
   "execution_count": 20,
   "id": "3af82f21",
   "metadata": {},
   "outputs": [],
   "source": [
    "mapbox_distance = []\n",
    "mapbox_duration = []\n",
    "\n",
    "for index, row in api_input.iterrows():\n",
    "    mapbox_response = json.loads(row['mapbox_response'])\n",
    "    mapbox_distance.append(mapbox_response['routes'][0]['distance'])\n",
    "    mapbox_duration.append(mapbox_response['routes'][0]['duration'])\n",
    "    \n",
    "api_input['mapbox_distance'] = pd.Series(mapbox_distance)\n",
    "api_input['mapbox_duration'] = pd.Series(mapbox_duration)"
   ]
  },
  {
   "cell_type": "code",
   "execution_count": 21,
   "id": "8dc9676a",
   "metadata": {},
   "outputs": [
    {
     "name": "stdout",
     "output_type": "stream",
     "text": [
      "<class 'pandas.core.frame.DataFrame'>\n",
      "Int64Index: 26 entries, 0 to 49\n",
      "Data columns (total 18 columns):\n",
      " #   Column                Non-Null Count  Dtype  \n",
      "---  ------                --------------  -----  \n",
      " 0   origin                26 non-null     object \n",
      " 1   destination           26 non-null     object \n",
      " 2   origin_lat            26 non-null     object \n",
      " 3   origin_lon            26 non-null     object \n",
      " 4   destination_lat       26 non-null     object \n",
      " 5   destination_lon       26 non-null     object \n",
      " 6   nb_request_links      26 non-null     object \n",
      " 7   nb_response           26 non-null     object \n",
      " 8   tomtom_request_links  26 non-null     object \n",
      " 9   tomtom_response       26 non-null     object \n",
      " 10  mapbox_request_links  26 non-null     object \n",
      " 11  mapbox_response       26 non-null     object \n",
      " 12  nb_distance           13 non-null     float64\n",
      " 13  nb_duration           13 non-null     float64\n",
      " 14  tomtom_distance       13 non-null     float64\n",
      " 15  tomtom_duration       13 non-null     float64\n",
      " 16  mapbox_distance       13 non-null     float64\n",
      " 17  mapbox_duration       13 non-null     float64\n",
      "dtypes: float64(6), object(12)\n",
      "memory usage: 3.9+ KB\n"
     ]
    }
   ],
   "source": [
    "api_input.info()"
   ]
  },
  {
   "cell_type": "markdown",
   "id": "8639cb98",
   "metadata": {},
   "source": [
    "# PC_Miler_distance_duration"
   ]
  },
  {
   "cell_type": "code",
   "execution_count": null,
   "id": "0445db13",
   "metadata": {},
   "outputs": [],
   "source": [
    "nb_distance = []\n",
    "nb_duration = []\n",
    "\n",
    "for index, row in api_input.iterrows():\n",
    "    nb_response = dict(row['nb_response_dict'])\n",
    "    nb_response_routes = nb_response['routes']\n",
    "    nb_distance.append(nb_response_routes[0]['distance'])\n",
    "    nb_duration.append(nb_response_routes[0]['duration'])\n",
    "    \n",
    "api_input['nb_distance'] = pd.Series(nb_distance)\n",
    "api_input['nb_duration'] = pd.Series(nb_duration)"
   ]
  },
  {
   "cell_type": "markdown",
   "id": "38a81c0d",
   "metadata": {},
   "source": [
    "# Output"
   ]
  },
  {
   "cell_type": "code",
   "execution_count": 22,
   "id": "1f4b27f9",
   "metadata": {},
   "outputs": [],
   "source": [
    "output = api_input[['origin','destination','nb_request_links','nb_response','tomtom_request_links','tomtom_response','mapbox_request_links','mapbox_response','nb_distance','nb_duration','tomtom_distance','tomtom_duration','mapbox_distance','mapbox_duration']]"
   ]
  },
  {
   "cell_type": "code",
   "execution_count": 24,
   "id": "ba5d365e",
   "metadata": {},
   "outputs": [],
   "source": [
    "output.to_csv('output.csv', index=False)"
   ]
  },
  {
   "cell_type": "markdown",
   "id": "d65f9f48",
   "metadata": {},
   "source": [
    "# google_distance&duration"
   ]
  },
  {
   "cell_type": "code",
   "execution_count": null,
   "id": "9d5e8034",
   "metadata": {},
   "outputs": [],
   "source": []
  },
  {
   "cell_type": "markdown",
   "id": "e30f42ee",
   "metadata": {},
   "source": [
    "# google_startaddress&endaddress"
   ]
  },
  {
   "cell_type": "code",
   "execution_count": null,
   "id": "3f82e40e",
   "metadata": {},
   "outputs": [],
   "source": []
  }
 ],
 "metadata": {
  "kernelspec": {
   "display_name": "Python 3",
   "language": "python",
   "name": "python3"
  },
  "language_info": {
   "codemirror_mode": {
    "name": "ipython",
    "version": 3
   },
   "file_extension": ".py",
   "mimetype": "text/x-python",
   "name": "python",
   "nbconvert_exporter": "python",
   "pygments_lexer": "ipython3",
   "version": "3.8.8"
  }
 },
 "nbformat": 4,
 "nbformat_minor": 5
}
