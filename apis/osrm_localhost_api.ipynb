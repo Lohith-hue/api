{
 "cells": [
  {
   "cell_type": "code",
   "execution_count": 40,
   "id": "57fbee3b",
   "metadata": {},
   "outputs": [],
   "source": [
    "import requests\n",
    "import json"
   ]
  },
  {
   "cell_type": "code",
   "execution_count": 41,
   "id": "8564f72f",
   "metadata": {},
   "outputs": [],
   "source": [
    "links = [\"http://0.0.0.0:5000/route/v1/driving/90.42318,23.7675667;90.4696396,23.7481555\",\n",
    "\"http://0.0.0.0:5000/route/v1/driving/90.3725052,23.7824521;90.368197,23.7866398\",\n",
    "\"http://0.0.0.0:5000/route/v1/driving/90.3903466,23.7569898;90.383343,23.740353\",\n",
    "\"http://0.0.0.0:5000/route/v1/driving/90.3660649,23.7908685;90.3694817,23.7781328\",\n",
    "\"http://0.0.0.0:5000/route/v1/driving/90.4085893,23.7300575;90.4108319,23.723044\",\n",
    "\"http://0.0.0.0:5000/route/v1/driving/90.3547751,23.7850814;90.3647993,23.7863046\",]"
   ]
  },
  {
   "cell_type": "code",
   "execution_count": 42,
   "id": "0e53f1a2",
   "metadata": {},
   "outputs": [],
   "source": [
    "distance = []\n",
    "duration = []\n",
    "\n",
    "for each in links:\n",
    "    response = json.loads(requests.get(each).text)\n",
    "    distance.append(response.get('routes')[0]['distance'])\n",
    "    duration.append(response.get('routes')[0]['duration'])"
   ]
  },
  {
   "cell_type": "code",
   "execution_count": 43,
   "id": "b5c3eed6",
   "metadata": {},
   "outputs": [
    {
     "name": "stdout",
     "output_type": "stream",
     "text": [
      "5487.3\n",
      "1320.3\n",
      "3309.4\n",
      "1536\n",
      "978\n",
      "1050.7\n"
     ]
    }
   ],
   "source": [
    "for each in distance:\n",
    "    print(each)"
   ]
  },
  {
   "cell_type": "code",
   "execution_count": 44,
   "id": "9b007eae",
   "metadata": {},
   "outputs": [
    {
     "name": "stdout",
     "output_type": "stream",
     "text": [
      "790.5\n",
      "404.7\n",
      "779.2\n",
      "241.5\n",
      "257.1\n",
      "254.2\n"
     ]
    }
   ],
   "source": [
    "for each in duration:\n",
    "    print(each)"
   ]
  },
  {
   "cell_type": "code",
   "execution_count": null,
   "id": "10eedfe3",
   "metadata": {},
   "outputs": [],
   "source": []
  }
 ],
 "metadata": {
  "kernelspec": {
   "display_name": "Python 3",
   "language": "python",
   "name": "python3"
  },
  "language_info": {
   "codemirror_mode": {
    "name": "ipython",
    "version": 3
   },
   "file_extension": ".py",
   "mimetype": "text/x-python",
   "name": "python",
   "nbconvert_exporter": "python",
   "pygments_lexer": "ipython3",
   "version": "3.8.8"
  }
 },
 "nbformat": 4,
 "nbformat_minor": 5
}
